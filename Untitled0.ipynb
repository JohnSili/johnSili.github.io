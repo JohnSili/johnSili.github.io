{
  "nbformat": 4,
  "nbformat_minor": 0,
  "metadata": {
    "colab": {
      "provenance": [],
      "authorship_tag": "ABX9TyNDUxF9J625xJ5zE5t7Pn7N",
      "include_colab_link": true
    },
    "kernelspec": {
      "name": "python3",
      "display_name": "Python 3"
    },
    "language_info": {
      "name": "python"
    }
  },
  "cells": [
    {
      "cell_type": "markdown",
      "metadata": {
        "id": "view-in-github",
        "colab_type": "text"
      },
      "source": [
        "<a href=\"https://colab.research.google.com/github/JohnSili/johnSili.github.io/blob/main/Untitled0.ipynb\" target=\"_parent\"><img src=\"https://colab.research.google.com/assets/colab-badge.svg\" alt=\"Open In Colab\"/></a>"
      ]
    },
    {
      "cell_type": "code",
      "execution_count": 10,
      "metadata": {
        "colab": {
          "base_uri": "https://localhost:8080/",
          "height": 1000
        },
        "id": "l7CxpXioOctD",
        "outputId": "c402345c-6f33-4baf-fb0f-d20b6c6bebd8"
      },
      "outputs": [
        {
          "output_type": "stream",
          "name": "stdout",
          "text": [
            "[{\"user\": \"да\", \"marusia\": \"Верно! Это ЮАР, Южно-Африканская Республика. Вопрос 3. Слоны боятся мышей. Правда ли это?\"}, {\"user\": \"нет\", \"marusia\": \"Да! По-настоящему слоны боятся африканских медоносных пчёл. А мыши просто сбивают слона с толку своими быстрыми передвижениями. Вопрос 4. Площадь московского парка Сокольники более чем в 2 раза превышает площадь княжества Монако. Правда ли это?\"}, {\"user\": \"нет\", \"marusia\": \"Нет, не верно! Площадь Сокольников — пять квадратных километров, а Монако — около двух. Вопрос 5. Салат «Цезарь» назван в честь Юлия Цезаря. Правда ли это?\"}, {\"user\": \"да\", \"marusia\": \"Не угадали! Он назван в честь Цезаря Кардини. Американского повара, который придумал этот салат в 1924 году. Вопрос 6. У богомола есть два глаза и нет ни одного уха. Правда ли это?\"}, {\"user\": \"маруся вот ты скажи\", \"marusia\": \"Вопрос на миллион!\"}]\n",
            "[1, 16, 2, 1136, 12, 5097, 156, 224, 6762, 2488, 8137, 198, 113, 12, 1, 22, 2, 16, 52, 1246, 6762, 2488, 9446, 7, 4167, 76, 4426, 21, 6433, 1824, 156, 447, 1858, 8703, 4570, 786, 78, 6, 258, 1583, 5555, 1858, 8138, 2396, 198, 113, 12, 1, 22, 2, 22, 4, 1136, 1858, 48, 171, 2145, 7, 2396, 48, 1240, 862, 156, 320, 3340, 7140, 6, 2358, 4287, 198, 113, 12, 1, 16, 2, 4, 1524, 143, 7140, 6, 2358, 8139, 426, 2444, 358, 3340, 6, 499, 156, 486, 17, 50, 159, 570, 8, 22, 245, 601, 7141, 198, 113, 12, 1, 9, 30, 10, 97, 2, 156, 11, 573]\n",
            "Model: \"sequential_4\"\n",
            "_________________________________________________________________\n",
            " Layer (type)                Output Shape              Param #   \n",
            "=================================================================\n",
            " embedding_4 (Embedding)     (None, 120, 64)           640000    \n",
            "                                                                 \n",
            " conv1d_4 (Conv1D)           (None, 116, 250)          80250     \n",
            "                                                                 \n",
            " global_max_pooling1d_4 (Glo  (None, 250)              0         \n",
            " balMaxPooling1D)                                                \n",
            "                                                                 \n",
            " dense_8 (Dense)             (None, 128)               32128     \n",
            "                                                                 \n",
            " dropout_4 (Dropout)         (None, 128)               0         \n",
            "                                                                 \n",
            " dense_9 (Dense)             (None, 1)                 129       \n",
            "                                                                 \n",
            "=================================================================\n",
            "Total params: 752,507\n",
            "Trainable params: 752,507\n",
            "Non-trainable params: 0\n",
            "_________________________________________________________________\n",
            "Epoch 1/4\n",
            "87/87 [==============================] - 45s 512ms/step - loss: 0.5231 - accuracy: 0.7861 - val_loss: 0.5234 - val_accuracy: 0.7779\n",
            "Epoch 2/4\n",
            "87/87 [==============================] - 44s 510ms/step - loss: 0.4996 - accuracy: 0.7895 - val_loss: 0.5208 - val_accuracy: 0.7779\n",
            "Epoch 3/4\n",
            "87/87 [==============================] - 44s 510ms/step - loss: 0.4610 - accuracy: 0.7920 - val_loss: 0.5391 - val_accuracy: 0.7790\n",
            "Epoch 4/4\n",
            "87/87 [==============================] - 45s 512ms/step - loss: 0.4036 - accuracy: 0.8168 - val_loss: 0.5763 - val_accuracy: 0.7714\n"
          ]
        },
        {
          "output_type": "display_data",
          "data": {
            "text/plain": [
              "<Figure size 432x288 with 1 Axes>"
            ],
            "image/png": "[encoded data removed]"
          },
          "metadata": {
            "needs_background": "light"
          }
        },
        {
          "output_type": "error",
          "ename": "ValueError",
          "evalue": "ignored",
          "traceback": [
            "\u001b[0;31m---------------------------------------------------------------------------\u001b[0m",
            "\u001b[0;31mValueError\u001b[0m                                Traceback (most recent call last)",
            "\u001b[0;32m<ipython-input-10-462e05d3fe42>\u001b[0m in \u001b[0;36m<module>\u001b[0;34m\u001b[0m\n\u001b[1;32m     62\u001b[0m \u001b[0my_test\u001b[0m \u001b[0;34m=\u001b[0m \u001b[0mtest\u001b[0m\u001b[0;34m[\u001b[0m\u001b[0;34m'Class'\u001b[0m\u001b[0;34m]\u001b[0m\u001b[0;34m\u001b[0m\u001b[0;34m\u001b[0m\u001b[0m\n\u001b[1;32m     63\u001b[0m \u001b[0my_test\u001b[0m\u001b[0;34m\u001b[0m\u001b[0;34m\u001b[0m\u001b[0m\n\u001b[0;32m---> 64\u001b[0;31m \u001b[0mmodel\u001b[0m\u001b[0;34m.\u001b[0m\u001b[0mevaluate\u001b[0m\u001b[0;34m(\u001b[0m\u001b[0mx_test\u001b[0m\u001b[0;34m,\u001b[0m \u001b[0my_test\u001b[0m\u001b[0;34m,\u001b[0m \u001b[0mverbose\u001b[0m\u001b[0;34m=\u001b[0m\u001b[0;36m1\u001b[0m\u001b[0;34m)\u001b[0m\u001b[0;34m\u001b[0m\u001b[0;34m\u001b[0m\u001b[0m\n\u001b[0m",
            "\u001b[0;32m/usr/local/lib/python3.7/dist-packages/keras/utils/traceback_utils.py\u001b[0m in \u001b[0;36merror_handler\u001b[0;34m(*args, **kwargs)\u001b[0m\n\u001b[1;32m     65\u001b[0m     \u001b[0;32mexcept\u001b[0m \u001b[0mException\u001b[0m \u001b[0;32mas\u001b[0m \u001b[0me\u001b[0m\u001b[0;34m:\u001b[0m  \u001b[0;31m# pylint: disable=broad-except\u001b[0m\u001b[0;34m\u001b[0m\u001b[0;34m\u001b[0m\u001b[0m\n\u001b[1;32m     66\u001b[0m       \u001b[0mfiltered_tb\u001b[0m \u001b[0;34m=\u001b[0m \u001b[0m_process_traceback_frames\u001b[0m\u001b[0;34m(\u001b[0m\u001b[0me\u001b[0m\u001b[0;34m.\u001b[0m\u001b[0m__traceback__\u001b[0m\u001b[0;34m)\u001b[0m\u001b[0;34m\u001b[0m\u001b[0;34m\u001b[0m\u001b[0m\n\u001b[0;32m---> 67\u001b[0;31m       \u001b[0;32mraise\u001b[0m \u001b[0me\u001b[0m\u001b[0;34m.\u001b[0m\u001b[0mwith_traceback\u001b[0m\u001b[0;34m(\u001b[0m\u001b[0mfiltered_tb\u001b[0m\u001b[0;34m)\u001b[0m \u001b[0;32mfrom\u001b[0m \u001b[0;32mNone\u001b[0m\u001b[0;34m\u001b[0m\u001b[0;34m\u001b[0m\u001b[0m\n\u001b[0m\u001b[1;32m     68\u001b[0m     \u001b[0;32mfinally\u001b[0m\u001b[0;34m:\u001b[0m\u001b[0;34m\u001b[0m\u001b[0;34m\u001b[0m\u001b[0m\n\u001b[1;32m     69\u001b[0m       \u001b[0;32mdel\u001b[0m \u001b[0mfiltered_tb\u001b[0m\u001b[0;34m\u001b[0m\u001b[0;34m\u001b[0m\u001b[0m\n",
            "\u001b[0;32m/usr/local/lib/python3.7/dist-packages/tensorflow/python/framework/constant_op.py\u001b[0m in \u001b[0;36mconvert_to_eager_tensor\u001b[0;34m(value, ctx, dtype)\u001b[0m\n\u001b[1;32m    100\u001b[0m       \u001b[0mdtype\u001b[0m \u001b[0;34m=\u001b[0m \u001b[0mdtypes\u001b[0m\u001b[0;34m.\u001b[0m\u001b[0mas_dtype\u001b[0m\u001b[0;34m(\u001b[0m\u001b[0mdtype\u001b[0m\u001b[0;34m)\u001b[0m\u001b[0;34m.\u001b[0m\u001b[0mas_datatype_enum\u001b[0m\u001b[0;34m\u001b[0m\u001b[0;34m\u001b[0m\u001b[0m\n\u001b[1;32m    101\u001b[0m   \u001b[0mctx\u001b[0m\u001b[0;34m.\u001b[0m\u001b[0mensure_initialized\u001b[0m\u001b[0;34m(\u001b[0m\u001b[0;34m)\u001b[0m\u001b[0;34m\u001b[0m\u001b[0;34m\u001b[0m\u001b[0m\n\u001b[0;32m--> 102\u001b[0;31m   \u001b[0;32mreturn\u001b[0m \u001b[0mops\u001b[0m\u001b[0;34m.\u001b[0m\u001b[0mEagerTensor\u001b[0m\u001b[0;34m(\u001b[0m\u001b[0mvalue\u001b[0m\u001b[0;34m,\u001b[0m \u001b[0mctx\u001b[0m\u001b[0;34m.\u001b[0m\u001b[0mdevice_name\u001b[0m\u001b[0;34m,\u001b[0m \u001b[0mdtype\u001b[0m\u001b[0;34m)\u001b[0m\u001b[0;34m\u001b[0m\u001b[0;34m\u001b[0m\u001b[0m\n\u001b[0m\u001b[1;32m    103\u001b[0m \u001b[0;34m\u001b[0m\u001b[0m\n\u001b[1;32m    104\u001b[0m \u001b[0;34m\u001b[0m\u001b[0m\n",
            "\u001b[0;31mValueError\u001b[0m: Failed to convert a NumPy array to a Tensor (Unsupported object type int)."
          ]
        }
      ],
      "source": [
        "from tensorflow.keras.models import Sequential\n",
        "from tensorflow.keras.layers import Dense, Embedding, MaxPooling1D, Conv1D, GlobalMaxPooling1D, Dropout\n",
        "from tensorflow.keras import utils\n",
        "from tensorflow.keras.preprocessing.sequence import pad_sequences\n",
        "from tensorflow.keras.preprocessing.text import Tokenizer\n",
        "from tensorflow.keras.callbacks import ModelCheckpoint\n",
        "import pandas as pd\n",
        "import numpy as np\n",
        "import matplotlib.pyplot as plt\n",
        "%matplotlib inline \n",
        "num_words = 10000\n",
        "max_review_len = 120  \n",
        "train = pd.read_excel('sdf.xlsx', \n",
        "                    header=None, \n",
        "                    names=['Sentences', 'Class'])\n",
        "train\n",
        "reviews = train['Sentences']\n",
        "reviews[:5]\n",
        "y_train = train['Class'] \n",
        "y_train\n",
        "tokenizer = Tokenizer(num_words=num_words)\n",
        "tokenizer.fit_on_texts(reviews)\n",
        "tokenizer.word_index\n",
        "sequences = tokenizer.texts_to_sequences(reviews)\n",
        "index = 100\n",
        "print(reviews[index])\n",
        "print(sequences[index])\n",
        "tokenizer.word_index['это']\n",
        "x_train = pad_sequences(sequences, maxlen=max_review_len)\n",
        "x_train[:5]\n",
        "model = Sequential()\n",
        "model.add(Embedding(num_words, 64, input_length=max_review_len))\n",
        "model.add(Conv1D(250, 5, padding='valid', activation='relu'))\n",
        "model.add(GlobalMaxPooling1D())\n",
        "model.add(Dense(128, activation='relu'))\n",
        "model.add(Dropout(0.5)) #0.2\n",
        "model.add(Dense(1, activation='sigmoid'))\n",
        "model.compile(optimizer='adam', \n",
        "              loss='binary_crossentropy', \n",
        "              metrics=['accuracy'])\n",
        "model.summary()\n",
        "history = model.fit(x_train, \n",
        "                    y_train, \n",
        "                    epochs=4,\n",
        "                    batch_size=300,#128\n",
        "                    validation_split=0.1)\n",
        "plt.plot(history.history['accuracy'], \n",
        "        label='Доля верных ответов на обучающем наборе')\n",
        "plt.plot(history.history['val_accuracy'], \n",
        "         label='Доля верных ответов на проверочном наборе')\n",
        "plt.xlabel('Эпоха обучения')\n",
        "plt.ylabel('Доля верных ответов')\n",
        "plt.legend()\n",
        "plt.show()\n",
        "test = pd.read_excel('test.xlsx', \n",
        "                    header=None, \n",
        "                    names=['Sentences', 'Class'])\n",
        "test\n",
        "test_sequences = tokenizer.texts_to_sequences(test['Sentences'])\n",
        "x_test = pad_sequences(test_sequences, maxlen=max_review_len)\n",
        "x_test[:5]\n",
        "y_test = test['Class']\n",
        "y_test\n",
        "model.evaluate(x_test, y_test, verbose=1)\n"
      ]
    },
    {
      "cell_type": "markdown",
      "source": [],
      "metadata": {
        "id": "gJ_QuBzrQGy1"
      }
    }
  ]
}