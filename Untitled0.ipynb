{
  "nbformat": 4,
  "nbformat_minor": 0,
  "metadata": {
    "colab": {
      "provenance": [],
      "authorship_tag": "ABX9TyMS2Unyxf0fY9/gfKbbAhAR",
      "include_colab_link": true
    },
    "kernelspec": {
      "name": "python3",
      "display_name": "Python 3"
    },
    "language_info": {
      "name": "python"
    }
  },
  "cells": [
    {
      "cell_type": "markdown",
      "metadata": {
        "id": "view-in-github",
        "colab_type": "text"
      },
      "source": [
        "<a href=\"https://colab.research.google.com/github/JohnSili/johnSili.github.io/blob/main/Untitled0.ipynb\" target=\"_parent\"><img src=\"https://colab.research.google.com/assets/colab-badge.svg\" alt=\"Open In Colab\"/></a>"
      ]
    },
    {
      "cell_type": "code",
      "execution_count": 6,
      "metadata": {
        "colab": {
          "base_uri": "https://localhost:8080/",
          "height": 1000
        },
        "id": "l7CxpXioOctD",
        "outputId": "245bbf10-f4bc-48c4-bec9-d039a20f0efd"
      },
      "outputs": [
        {
          "output_type": "stream",
          "name": "stdout",
          "text": [
            "[{\"user\": \"да\", \"marusia\": \"Верно! Это ЮАР, Южно-Африканская Республика. Вопрос 3. Слоны боятся мышей. Правда ли это?\"}, {\"user\": \"нет\", \"marusia\": \"Да! По-настоящему слоны боятся африканских медоносных пчёл. А мыши просто сбивают слона с толку своими быстрыми передвижениями. Вопрос 4. Площадь московского парка Сокольники более чем в 2 раза превышает площадь княжества Монако. Правда ли это?\"}, {\"user\": \"нет\", \"marusia\": \"Нет, не верно! Площадь Сокольников — пять квадратных километров, а Монако — около двух. Вопрос 5. Салат «Цезарь» назван в честь Юлия Цезаря. Правда ли это?\"}, {\"user\": \"да\", \"marusia\": \"Не угадали! Он назван в честь Цезаря Кардини. Американского повара, который придумал этот салат в 1924 году. Вопрос 6. У богомола есть два глаза и нет ни одного уха. Правда ли это?\"}, {\"user\": \"маруся вот ты скажи\", \"marusia\": \"Вопрос на миллион!\"}]\n",
            "[1, 16, 2, 1136, 12, 5097, 156, 224, 6762, 2488, 8137, 198, 113, 12, 1, 22, 2, 16, 52, 1246, 6762, 2488, 9446, 7, 4167, 76, 4426, 21, 6433, 1824, 156, 447, 1858, 8703, 4570, 786, 78, 6, 258, 1583, 5555, 1858, 8138, 2396, 198, 113, 12, 1, 22, 2, 22, 4, 1136, 1858, 48, 171, 2145, 7, 2396, 48, 1240, 862, 156, 320, 3340, 7140, 6, 2358, 4287, 198, 113, 12, 1, 16, 2, 4, 1524, 143, 7140, 6, 2358, 8139, 426, 2444, 358, 3340, 6, 499, 156, 486, 17, 50, 159, 570, 8, 22, 245, 601, 7141, 198, 113, 12, 1, 9, 30, 10, 97, 2, 156, 11, 573]\n",
            "Model: \"sequential\"\n",
            "_________________________________________________________________\n",
            " Layer (type)                Output Shape              Param #   \n",
            "=================================================================\n",
            " embedding (Embedding)       (None, 120, 64)           640000    \n",
            "                                                                 \n",
            " conv1d (Conv1D)             (None, 116, 250)          80250     \n",
            "                                                                 \n",
            " global_max_pooling1d (Globa  (None, 250)              0         \n",
            " lMaxPooling1D)                                                  \n",
            "                                                                 \n",
            " dense (Dense)               (None, 128)               32128     \n",
            "                                                                 \n",
            " dropout (Dropout)           (None, 128)               0         \n",
            "                                                                 \n",
            " dense_1 (Dense)             (None, 1)                 129       \n",
            "                                                                 \n",
            "=================================================================\n",
            "Total params: 752,507\n",
            "Trainable params: 752,507\n",
            "Non-trainable params: 0\n",
            "_________________________________________________________________\n",
            "Epoch 1/4\n",
            "87/87 [==============================] - 51s 570ms/step - loss: 0.5259 - accuracy: 0.7872 - val_loss: 0.5228 - val_accuracy: 0.7779\n",
            "Epoch 2/4\n",
            "87/87 [==============================] - 47s 537ms/step - loss: 0.4987 - accuracy: 0.7895 - val_loss: 0.5228 - val_accuracy: 0.7779\n",
            "Epoch 3/4\n",
            "87/87 [==============================] - 47s 536ms/step - loss: 0.4617 - accuracy: 0.7923 - val_loss: 0.5376 - val_accuracy: 0.7776\n",
            "Epoch 4/4\n",
            "87/87 [==============================] - 46s 529ms/step - loss: 0.4062 - accuracy: 0.8138 - val_loss: 0.5733 - val_accuracy: 0.7676\n"
          ]
        },
        {
          "output_type": "display_data",
          "data": {
            "text/plain": [
              "<Figure size 432x288 with 1 Axes>"
            ],
            "image/png": "[encoded data removed]"
          },
          "metadata": {
            "needs_background": "light"
          }
        },
        {
          "output_type": "error",
          "ename": "NameError",
          "evalue": "ignored",
          "traceback": [
            "\u001b[0;31m---------------------------------------------------------------------------\u001b[0m",
            "\u001b[0;31mNameError\u001b[0m                                 Traceback (most recent call last)",
            "\u001b[0;32m<ipython-input-6-a5a7d9e15aa8>\u001b[0m in \u001b[0;36m<module>\u001b[0;34m\u001b[0m\n\u001b[1;32m     53\u001b[0m \u001b[0mplt\u001b[0m\u001b[0;34m.\u001b[0m\u001b[0mlegend\u001b[0m\u001b[0;34m(\u001b[0m\u001b[0;34m)\u001b[0m\u001b[0;34m\u001b[0m\u001b[0;34m\u001b[0m\u001b[0m\n\u001b[1;32m     54\u001b[0m \u001b[0mplt\u001b[0m\u001b[0;34m.\u001b[0m\u001b[0mshow\u001b[0m\u001b[0;34m(\u001b[0m\u001b[0;34m)\u001b[0m\u001b[0;34m\u001b[0m\u001b[0;34m\u001b[0m\u001b[0m\n\u001b[0;32m---> 55\u001b[0;31m \u001b[0mmodel\u001b[0m\u001b[0;34m.\u001b[0m\u001b[0mload_weights\u001b[0m\u001b[0;34m(\u001b[0m\u001b[0mmodel_save_path\u001b[0m\u001b[0;34m)\u001b[0m\u001b[0;34m\u001b[0m\u001b[0;34m\u001b[0m\u001b[0m\n\u001b[0m\u001b[1;32m     56\u001b[0m test = pd.read_excel('sdf.xlsx', \n\u001b[1;32m     57\u001b[0m                     \u001b[0mheader\u001b[0m\u001b[0;34m=\u001b[0m\u001b[0;32mNone\u001b[0m\u001b[0;34m,\u001b[0m\u001b[0;34m\u001b[0m\u001b[0;34m\u001b[0m\u001b[0m\n",
            "\u001b[0;31mNameError\u001b[0m: name 'model_save_path' is not defined"
          ]
        }
      ],
      "source": [
        "from tensorflow.keras.models import Sequential\n",
        "from tensorflow.keras.layers import Dense, Embedding, MaxPooling1D, Conv1D, GlobalMaxPooling1D, Dropout\n",
        "from tensorflow.keras import utils\n",
        "from tensorflow.keras.preprocessing.sequence import pad_sequences\n",
        "from tensorflow.keras.preprocessing.text import Tokenizer\n",
        "from tensorflow.keras.callbacks import ModelCheckpoint\n",
        "import pandas as pd\n",
        "import numpy as np\n",
        "import matplotlib.pyplot as plt\n",
        "%matplotlib inline \n",
        "num_words = 10000\n",
        "max_review_len = 120  \n",
        "train = pd.read_excel('sdf.xlsx', \n",
        "                    header=None, \n",
        "                    names=['Sentences', 'Class'])\n",
        "train\n",
        "reviews = train['Sentences']\n",
        "reviews[:5]\n",
        "y_train = train['Class'] \n",
        "y_train\n",
        "tokenizer = Tokenizer(num_words=num_words)\n",
        "tokenizer.fit_on_texts(reviews)\n",
        "tokenizer.word_index\n",
        "sequences = tokenizer.texts_to_sequences(reviews)\n",
        "index = 100\n",
        "print(reviews[index])\n",
        "print(sequences[index])\n",
        "tokenizer.word_index['это']\n",
        "x_train = pad_sequences(sequences, maxlen=max_review_len)\n",
        "x_train[:5]\n",
        "model = Sequential()\n",
        "model.add(Embedding(num_words, 64, input_length=max_review_len))\n",
        "model.add(Conv1D(250, 5, padding='valid', activation='relu'))\n",
        "model.add(GlobalMaxPooling1D())\n",
        "model.add(Dense(128, activation='relu'))\n",
        "model.add(Dropout(0.5)) #0.2\n",
        "model.add(Dense(1, activation='sigmoid'))\n",
        "model.compile(optimizer='adam', \n",
        "              loss='binary_crossentropy', \n",
        "              metrics=['accuracy'])\n",
        "model.summary()\n",
        "history = model.fit(x_train, \n",
        "                    y_train, \n",
        "                    epochs=4,\n",
        "                    batch_size=300,#128\n",
        "                    validation_split=0.1)\n",
        "plt.plot(history.history['accuracy'], \n",
        "        label='Доля верных ответов на обучающем наборе')\n",
        "plt.plot(history.history['val_accuracy'], \n",
        "         label='Доля верных ответов на проверочном наборе')\n",
        "plt.xlabel('Эпоха обучения')\n",
        "plt.ylabel('Доля верных ответов')\n",
        "plt.legend()\n",
        "plt.show()\n",
        "model.load_weights(model_save_path)\n",
        "test = pd.read_excel('sdf.xlsx', \n",
        "                    header=None, \n",
        "                    names=['Sentences', 'Class'])\n",
        "test\n",
        "test_sequences = tokenizer.texts_to_sequences(test['Sentences'])\n",
        "x_test = pad_sequences(test_sequences, maxlen=max_review_len)\n",
        "x_test[:5]\n",
        "y_test = test['Class']\n",
        "y_test\n",
        "\n",
        "model.evaluate(x_test, y_test, verbose=1)"
      ]
    },
    {
      "cell_type": "code",
      "source": [
        "from tensorflow.keras.models import Sequential\n",
        "from tensorflow.keras.layers import Dense, Embedding, MaxPooling1D, Conv1D, GlobalMaxPooling1D, Dropout\n",
        "from tensorflow.keras import utils\n",
        "from tensorflow.keras.preprocessing.sequence import pad_sequences\n",
        "from tensorflow.keras.preprocessing.text import Tokenizer\n",
        "from tensorflow.keras.callbacks import ModelCheckpoint\n",
        "import pandas as pd\n",
        "import numpy as np\n",
        "import matplotlib.pyplot as plt\n",
        "from sklearn.metrics import accuracy_score, precision_recall_curve, percision_score, plot_roc_curve\n",
        "%matplotlib inline \n",
        "num_words = 10000\n",
        "max_review_len = 120  \n",
        "train = pd.read_excel('sdf.xlsx', \n",
        "                    header=None, \n",
        "                    names=['Sentences', 'Class'])\n",
        "train\n",
        "reviews = train['Sentences']\n",
        "reviews[:5]\n",
        "y_train = train['Class'] \n",
        "y_train\n",
        "tokenizer = Tokenizer(num_words=num_words)\n",
        "tokenizer.fit_on_texts(reviews)\n",
        "tokenizer.word_index\n",
        "sequences = tokenizer.texts_to_sequences(reviews)\n",
        "index = 100\n",
        "print(reviews[index])\n",
        "print(sequences[index])\n",
        "tokenizer.word_index['это']\n",
        "x_train = pad_sequences(sequences, maxlen=max_review_len)\n",
        "x_train[:5]\n",
        "model = Sequential()\n",
        "model.add(Embedding(num_words, 64, input_length=max_review_len))\n",
        "model.add(Conv1D(250, 5, padding='valid', activation='relu'))\n",
        "model.add(GlobalMaxPooling1D())\n",
        "model.add(Dense(128, activation='relu'))\n",
        "model.add(Dropout(0.5)) #0.2\n",
        "model.add(Dense(1, activation='sigmoid'))\n",
        "model.compile(optimizer='adam', \n",
        "              loss='binary_crossentropy', \n",
        "              metrics=['accuracy'])\n",
        "model.summary()\n",
        "history = model.fit(x_train, \n",
        "                    y_train, \n",
        "                    epochs=4,\n",
        "                    batch_size=300,#128\n",
        "                    validation_split=0.1)\n",
        "#plt.plot(history.history['accuracy'], \n",
        " #        label='Доля верных ответов на обучающем наборе')\n",
        "#plt.plot(history.history['val_accuracy'], \n",
        " #        label='Доля верных ответов на проверочном наборе')\n",
        "#plt.xlabel('Эпоха обучения')\n",
        "#plt.ylabel('Доля верных ответов')\n",
        "#plt.legend()\n",
        "#plt.show()\n",
        "test = pd.read_excel('sdf.xlsx', \n",
        "                    header=None, \n",
        "                    names=['Sentences', 'Class'])\n",
        "test\n",
        "test_sequences = tokenizer.texts_to_sequences(test['Sentences'])\n",
        "x_test = pad_sequences(test_sequences, maxlen=max_review_len)\n",
        "x_test[:5]\n",
        "y_test = test['Class']\n",
        "y_test\n",
        "r_probs = model.predict_proba()\n",
        "model.evaluate(x_test, y_test, verbose=1)"
      ],
      "metadata": {
        "id": "ajMTJ85wK_40"
      },
      "execution_count": null,
      "outputs": []
    },
    {
      "cell_type": "code",
      "source": [
        "\n",
        "from tensorflow.keras.models import Sequential\n",
        "from tensorflow.keras.layers import Dense, Embedding, MaxPooling1D, Conv1D, GlobalMaxPooling1D, Dropout\n",
        "from tensorflow.keras import utils\n",
        "from tensorflow.keras.preprocessing.sequence import pad_sequences\n",
        "from tensorflow.keras.preprocessing.text import Tokenizer\n",
        "from tensorflow.keras.callbacks import ModelCheckpoint\n",
        "import sklearn.metrics\n",
        "from sklearn.metrics import accuracy_score, precision_recall_curve, plot_roc_curve\n",
        "import pandas as pd\n",
        "import numpy as np\n",
        "import matplotlib.pyplot as plt\n",
        "from sklearn.metrics import accuracy_score, precision_recall_curve, plot_roc_curve\n",
        "%matplotlib inline \n",
        "num_words = 10000\n",
        "max_review_len = 120  \n",
        "train = pd.read_excel('sdf.xlsx', \n",
        "                    header=None, \n",
        "                    names=['Sentences', 'Class'])\n",
        "train\n",
        "reviews = train['Sentences']\n",
        "reviews[:5]\n",
        "y_train = train['Class'] \n",
        "y_train\n",
        "tokenizer = Tokenizer(num_words=num_words)\n",
        "tokenizer.fit_on_texts(reviews)\n",
        "tokenizer.word_index\n",
        "sequences = tokenizer.texts_to_sequences(reviews)\n",
        "index = 100\n",
        "print(reviews[index])\n",
        "print(sequences[index])\n",
        "tokenizer.word_index['это']\n",
        "x_train = pad_sequences(sequences, maxlen=max_review_len)\n",
        "x_train[:5]\n",
        "model = Sequential()\n",
        "model.add(Embedding(num_words, 64, input_length=max_review_len))\n",
        "model.add(Conv1D(250, 5, padding='valid', activation='relu'))\n",
        "model.add(GlobalMaxPooling1D())\n",
        "model.add(Dense(128, activation='relu'))\n",
        "model.add(Dropout(0.5)) #0.2\n",
        "model.add(Dense(1, activation='sigmoid'))\n",
        "model.compile(optimizer='adam', \n",
        "              loss='binary_crossentropy', \n",
        "              metrics=['accuracy'])\n",
        "model.summary()\n",
        "history = model.fit(x_train, \n",
        "                    y_train, \n",
        "                    epochs=4,\n",
        "                    batch_size=300,#128\n",
        "                    validation_split=0.1)\n",
        "#plt.plot(history.history['accuracy'], \n",
        " #        label='Доля верных ответов на обучающем наборе')\n",
        "#plt.plot(history.history['val_accuracy'], \n",
        " #        label='Доля верных ответов на проверочном наборе')\n",
        "#plt.xlabel('Эпоха обучения')\n",
        "#plt.ylabel('Доля верных ответов')\n",
        "#plt.legend()\n",
        "#plt.show()\n",
        "test = pd.read_excel('sdf.xlsx', \n",
        "                    header=None, \n",
        "                    names=['Sentences', 'Class'])\n",
        "test\n",
        "test_sequences = tokenizer.texts_to_sequences(test['Sentences'])\n",
        "x_test = pad_sequences(test_sequences, maxlen=max_review_len)\n",
        "x_test[:5]\n",
        "y_test = test['Class']\n",
        "y_test\n",
        "model.evaluate(x_test, y_test, verbose=1)"
      ],
      "metadata": {
        "colab": {
          "base_uri": "https://localhost:8080/",
          "height": 792
        },
        "id": "mHufnzHRXeO6",
        "outputId": "046466e4-22db-4010-89d8-3c6a7ff8dbfd"
      },
      "execution_count": 5,
      "outputs": [
        {
          "output_type": "stream",
          "name": "stdout",
          "text": [
            "[{\"user\": \"да\", \"marusia\": \"Верно! Это ЮАР, Южно-Африканская Республика. Вопрос 3. Слоны боятся мышей. Правда ли это?\"}, {\"user\": \"нет\", \"marusia\": \"Да! По-настоящему слоны боятся африканских медоносных пчёл. А мыши просто сбивают слона с толку своими быстрыми передвижениями. Вопрос 4. Площадь московского парка Сокольники более чем в 2 раза превышает площадь княжества Монако. Правда ли это?\"}, {\"user\": \"нет\", \"marusia\": \"Нет, не верно! Площадь Сокольников — пять квадратных километров, а Монако — около двух. Вопрос 5. Салат «Цезарь» назван в честь Юлия Цезаря. Правда ли это?\"}, {\"user\": \"да\", \"marusia\": \"Не угадали! Он назван в честь Цезаря Кардини. Американского повара, который придумал этот салат в 1924 году. Вопрос 6. У богомола есть два глаза и нет ни одного уха. Правда ли это?\"}, {\"user\": \"маруся вот ты скажи\", \"marusia\": \"Вопрос на миллион!\"}]\n",
            "[1, 16, 2, 1136, 12, 5097, 156, 224, 6762, 2488, 8137, 198, 113, 12, 1, 22, 2, 16, 52, 1246, 6762, 2488, 9446, 7, 4167, 76, 4426, 21, 6433, 1824, 156, 447, 1858, 8703, 4570, 786, 78, 6, 258, 1583, 5555, 1858, 8138, 2396, 198, 113, 12, 1, 22, 2, 22, 4, 1136, 1858, 48, 171, 2145, 7, 2396, 48, 1240, 862, 156, 320, 3340, 7140, 6, 2358, 4287, 198, 113, 12, 1, 16, 2, 4, 1524, 143, 7140, 6, 2358, 8139, 426, 2444, 358, 3340, 6, 499, 156, 486, 17, 50, 159, 570, 8, 22, 245, 601, 7141, 198, 113, 12, 1, 9, 30, 10, 97, 2, 156, 11, 573]\n",
            "Model: \"sequential\"\n",
            "_________________________________________________________________\n",
            " Layer (type)                Output Shape              Param #   \n",
            "=================================================================\n",
            " embedding (Embedding)       (None, 120, 64)           640000    \n",
            "                                                                 \n",
            " conv1d (Conv1D)             (None, 116, 250)          80250     \n",
            "                                                                 \n",
            " global_max_pooling1d (Globa  (None, 250)              0         \n",
            " lMaxPooling1D)                                                  \n",
            "                                                                 \n",
            " dense (Dense)               (None, 128)               32128     \n",
            "                                                                 \n",
            " dropout (Dropout)           (None, 128)               0         \n",
            "                                                                 \n",
            " dense_1 (Dense)             (None, 1)                 129       \n",
            "                                                                 \n",
            "=================================================================\n",
            "Total params: 752,507\n",
            "Trainable params: 752,507\n",
            "Non-trainable params: 0\n",
            "_________________________________________________________________\n",
            "Epoch 1/4\n",
            "87/87 [==============================] - 46s 519ms/step - loss: 0.5235 - accuracy: 0.7888 - val_loss: 0.5222 - val_accuracy: 0.7779\n",
            "Epoch 2/4\n",
            "87/87 [==============================] - 45s 517ms/step - loss: 0.4978 - accuracy: 0.7895 - val_loss: 0.5189 - val_accuracy: 0.7779\n",
            "Epoch 3/4\n",
            "87/87 [==============================] - 45s 518ms/step - loss: 0.4605 - accuracy: 0.7916 - val_loss: 0.5378 - val_accuracy: 0.7797\n",
            "Epoch 4/4\n",
            "87/87 [==============================] - 45s 516ms/step - loss: 0.4009 - accuracy: 0.8161 - val_loss: 0.5884 - val_accuracy: 0.7689\n"
          ]
        },
        {
          "output_type": "error",
          "ename": "AttributeError",
          "evalue": "ignored",
          "traceback": [
            "\u001b[0;31m---------------------------------------------------------------------------\u001b[0m",
            "\u001b[0;31mAttributeError\u001b[0m                            Traceback (most recent call last)",
            "\u001b[0;32m<ipython-input-5-e8724f06082d>\u001b[0m in \u001b[0;36m<module>\u001b[0;34m\u001b[0m\n\u001b[1;32m     65\u001b[0m \u001b[0my_test\u001b[0m \u001b[0;34m=\u001b[0m \u001b[0mtest\u001b[0m\u001b[0;34m[\u001b[0m\u001b[0;34m'Class'\u001b[0m\u001b[0;34m]\u001b[0m\u001b[0;34m\u001b[0m\u001b[0;34m\u001b[0m\u001b[0m\n\u001b[1;32m     66\u001b[0m \u001b[0my_test\u001b[0m\u001b[0;34m\u001b[0m\u001b[0;34m\u001b[0m\u001b[0m\n\u001b[0;32m---> 67\u001b[0;31m \u001b[0mr_probs\u001b[0m \u001b[0;34m=\u001b[0m \u001b[0mmodel\u001b[0m\u001b[0;34m.\u001b[0m\u001b[0mpredict_proba\u001b[0m\u001b[0;34m(\u001b[0m\u001b[0my_train\u001b[0m\u001b[0;34m)\u001b[0m\u001b[0;34m\u001b[0m\u001b[0;34m\u001b[0m\u001b[0m\n\u001b[0m\u001b[1;32m     68\u001b[0m \u001b[0mmodel\u001b[0m\u001b[0;34m.\u001b[0m\u001b[0mevaluate\u001b[0m\u001b[0;34m(\u001b[0m\u001b[0mx_test\u001b[0m\u001b[0;34m,\u001b[0m \u001b[0my_test\u001b[0m\u001b[0;34m,\u001b[0m \u001b[0mverbose\u001b[0m\u001b[0;34m=\u001b[0m\u001b[0;36m1\u001b[0m\u001b[0;34m)\u001b[0m\u001b[0;34m\u001b[0m\u001b[0;34m\u001b[0m\u001b[0m\n",
            "\u001b[0;31mAttributeError\u001b[0m: 'Sequential' object has no attribute 'predict_proba'"
          ]
        }
      ]
    },
    {
      "cell_type": "code",
      "source": [
        "import pandas as pd\n",
        "train = pd.read_excel('sdf.xlsx', \n",
        "                    header=None, \n",
        "                    names=['Sentences', 'Class'])\n",
        "train['Sentences'] = train['Sentences'].map(lambda x: x.lstrip('marusia').rstrip('aAbBcC'))\n",
        "print(train['Sentences'])\n",
        "ntrain = train[train['Sentences'].str.contains(\"\", na = False)].copy() # now only_counties is a sliced copy of usa_only, not a view\n",
        "\n",
        "ntrain['Sentences'] = ntrain['marusia'].str.replace(' County', '')\n"
      ],
      "metadata": {
        "colab": {
          "base_uri": "https://localhost:8080/",
          "height": 710
        },
        "id": "YJY1B87PTL7U",
        "outputId": "9206326a-4951-4c97-847a-f39714656611"
      },
      "execution_count": 5,
      "outputs": [
        {
          "output_type": "stream",
          "name": "stdout",
          "text": [
            "ну куда пошли                                           [{\"user\": \"\", \"marusia\": \"\"}, {\"user\": \"\", \"ma...\n",
            "а сколько будет миллиард долларов рублей                [{\"user\": \"а сколько будет\", \"marusia\": \"Извин...\n",
            "марусь включи пожалуйста елена вальяк гипноз для сна    [{\"user\": \"маруся через десять минут будильник...\n",
            "да о том что я тебя очень уважаю люблю                  [{\"user\": \"\", \"marusia\": \"Если вам нужна помощ...\n",
            "детскую песенку                                         [{\"user\": \"\", \"marusia\": \"\"}, {\"user\": \"угадай...\n",
            "                                                                              ...                        \n",
            "так где мой нож                                         [{\"user\": \"\", \"marusia\": \"\"}, {\"user\": \"ты уме...\n",
            "дальше                                                  [{\"user\": \"\", \"marusia\": \"\"}, {\"user\": \"\", \"ma...\n",
            "маруся я очень тебя люблю                               [{\"user\": \"маруся очень очень я тебя люблю\", \"...\n",
            "голову вас зафиксировала камера                         [{\"user\": \"\", \"marusia\": \"\"}, {\"user\": \"ну дав...\n",
            "что представляем                                        [{\"user\": \"ты вообще не можешь\", \"marusia\": \"В...\n",
            "Name: Sentences, Length: 28901, dtype: object\n"
          ]
        },
        {
          "output_type": "error",
          "ename": "KeyError",
          "evalue": "ignored",
          "traceback": [
            "\u001b[0;31m---------------------------------------------------------------------------\u001b[0m",
            "\u001b[0;31mKeyError\u001b[0m                                  Traceback (most recent call last)",
            "\u001b[0;32m/usr/local/lib/python3.7/dist-packages/pandas/core/indexes/base.py\u001b[0m in \u001b[0;36mget_loc\u001b[0;34m(self, key, method, tolerance)\u001b[0m\n\u001b[1;32m   3360\u001b[0m             \u001b[0;32mtry\u001b[0m\u001b[0;34m:\u001b[0m\u001b[0;34m\u001b[0m\u001b[0;34m\u001b[0m\u001b[0m\n\u001b[0;32m-> 3361\u001b[0;31m                 \u001b[0;32mreturn\u001b[0m \u001b[0mself\u001b[0m\u001b[0;34m.\u001b[0m\u001b[0m_engine\u001b[0m\u001b[0;34m.\u001b[0m\u001b[0mget_loc\u001b[0m\u001b[0;34m(\u001b[0m\u001b[0mcasted_key\u001b[0m\u001b[0;34m)\u001b[0m\u001b[0;34m\u001b[0m\u001b[0;34m\u001b[0m\u001b[0m\n\u001b[0m\u001b[1;32m   3362\u001b[0m             \u001b[0;32mexcept\u001b[0m \u001b[0mKeyError\u001b[0m \u001b[0;32mas\u001b[0m \u001b[0merr\u001b[0m\u001b[0;34m:\u001b[0m\u001b[0;34m\u001b[0m\u001b[0;34m\u001b[0m\u001b[0m\n",
            "\u001b[0;32m/usr/local/lib/python3.7/dist-packages/pandas/_libs/index.pyx\u001b[0m in \u001b[0;36mpandas._libs.index.IndexEngine.get_loc\u001b[0;34m()\u001b[0m\n",
            "\u001b[0;32m/usr/local/lib/python3.7/dist-packages/pandas/_libs/index.pyx\u001b[0m in \u001b[0;36mpandas._libs.index.IndexEngine.get_loc\u001b[0;34m()\u001b[0m\n",
            "\u001b[0;32mpandas/_libs/hashtable_class_helper.pxi\u001b[0m in \u001b[0;36mpandas._libs.hashtable.PyObjectHashTable.get_item\u001b[0;34m()\u001b[0m\n",
            "\u001b[0;32mpandas/_libs/hashtable_class_helper.pxi\u001b[0m in \u001b[0;36mpandas._libs.hashtable.PyObjectHashTable.get_item\u001b[0;34m()\u001b[0m\n",
            "\u001b[0;31mKeyError\u001b[0m: 'marusia'",
            "\nThe above exception was the direct cause of the following exception:\n",
            "\u001b[0;31mKeyError\u001b[0m                                  Traceback (most recent call last)",
            "\u001b[0;32m<ipython-input-5-5b905a215ca9>\u001b[0m in \u001b[0;36m<module>\u001b[0;34m\u001b[0m\n\u001b[1;32m      7\u001b[0m \u001b[0mntrain\u001b[0m \u001b[0;34m=\u001b[0m \u001b[0mtrain\u001b[0m\u001b[0;34m[\u001b[0m\u001b[0mtrain\u001b[0m\u001b[0;34m[\u001b[0m\u001b[0;34m'Sentences'\u001b[0m\u001b[0;34m]\u001b[0m\u001b[0;34m.\u001b[0m\u001b[0mstr\u001b[0m\u001b[0;34m.\u001b[0m\u001b[0mcontains\u001b[0m\u001b[0;34m(\u001b[0m\u001b[0;34m\"\"\u001b[0m\u001b[0;34m,\u001b[0m \u001b[0mna\u001b[0m \u001b[0;34m=\u001b[0m \u001b[0;32mFalse\u001b[0m\u001b[0;34m)\u001b[0m\u001b[0;34m]\u001b[0m\u001b[0;34m.\u001b[0m\u001b[0mcopy\u001b[0m\u001b[0;34m(\u001b[0m\u001b[0;34m)\u001b[0m \u001b[0;31m# now only_counties is a sliced copy of usa_only, not a view\u001b[0m\u001b[0;34m\u001b[0m\u001b[0;34m\u001b[0m\u001b[0m\n\u001b[1;32m      8\u001b[0m \u001b[0;34m\u001b[0m\u001b[0m\n\u001b[0;32m----> 9\u001b[0;31m \u001b[0mntrain\u001b[0m\u001b[0;34m[\u001b[0m\u001b[0;34m'Sentences'\u001b[0m\u001b[0;34m]\u001b[0m \u001b[0;34m=\u001b[0m \u001b[0mntrain\u001b[0m\u001b[0;34m[\u001b[0m\u001b[0;34m'marusia'\u001b[0m\u001b[0;34m]\u001b[0m\u001b[0;34m.\u001b[0m\u001b[0mstr\u001b[0m\u001b[0;34m.\u001b[0m\u001b[0mreplace\u001b[0m\u001b[0;34m(\u001b[0m\u001b[0;34m' County'\u001b[0m\u001b[0;34m,\u001b[0m \u001b[0;34m''\u001b[0m\u001b[0;34m)\u001b[0m\u001b[0;34m\u001b[0m\u001b[0;34m\u001b[0m\u001b[0m\n\u001b[0m",
            "\u001b[0;32m/usr/local/lib/python3.7/dist-packages/pandas/core/frame.py\u001b[0m in \u001b[0;36m__getitem__\u001b[0;34m(self, key)\u001b[0m\n\u001b[1;32m   3456\u001b[0m             \u001b[0;32mif\u001b[0m \u001b[0mself\u001b[0m\u001b[0;34m.\u001b[0m\u001b[0mcolumns\u001b[0m\u001b[0;34m.\u001b[0m\u001b[0mnlevels\u001b[0m \u001b[0;34m>\u001b[0m \u001b[0;36m1\u001b[0m\u001b[0;34m:\u001b[0m\u001b[0;34m\u001b[0m\u001b[0;34m\u001b[0m\u001b[0m\n\u001b[1;32m   3457\u001b[0m                 \u001b[0;32mreturn\u001b[0m \u001b[0mself\u001b[0m\u001b[0;34m.\u001b[0m\u001b[0m_getitem_multilevel\u001b[0m\u001b[0;34m(\u001b[0m\u001b[0mkey\u001b[0m\u001b[0;34m)\u001b[0m\u001b[0;34m\u001b[0m\u001b[0;34m\u001b[0m\u001b[0m\n\u001b[0;32m-> 3458\u001b[0;31m             \u001b[0mindexer\u001b[0m \u001b[0;34m=\u001b[0m \u001b[0mself\u001b[0m\u001b[0;34m.\u001b[0m\u001b[0mcolumns\u001b[0m\u001b[0;34m.\u001b[0m\u001b[0mget_loc\u001b[0m\u001b[0;34m(\u001b[0m\u001b[0mkey\u001b[0m\u001b[0;34m)\u001b[0m\u001b[0;34m\u001b[0m\u001b[0;34m\u001b[0m\u001b[0m\n\u001b[0m\u001b[1;32m   3459\u001b[0m             \u001b[0;32mif\u001b[0m \u001b[0mis_integer\u001b[0m\u001b[0;34m(\u001b[0m\u001b[0mindexer\u001b[0m\u001b[0;34m)\u001b[0m\u001b[0;34m:\u001b[0m\u001b[0;34m\u001b[0m\u001b[0;34m\u001b[0m\u001b[0m\n\u001b[1;32m   3460\u001b[0m                 \u001b[0mindexer\u001b[0m \u001b[0;34m=\u001b[0m \u001b[0;34m[\u001b[0m\u001b[0mindexer\u001b[0m\u001b[0;34m]\u001b[0m\u001b[0;34m\u001b[0m\u001b[0;34m\u001b[0m\u001b[0m\n",
            "\u001b[0;32m/usr/local/lib/python3.7/dist-packages/pandas/core/indexes/base.py\u001b[0m in \u001b[0;36mget_loc\u001b[0;34m(self, key, method, tolerance)\u001b[0m\n\u001b[1;32m   3361\u001b[0m                 \u001b[0;32mreturn\u001b[0m \u001b[0mself\u001b[0m\u001b[0;34m.\u001b[0m\u001b[0m_engine\u001b[0m\u001b[0;34m.\u001b[0m\u001b[0mget_loc\u001b[0m\u001b[0;34m(\u001b[0m\u001b[0mcasted_key\u001b[0m\u001b[0;34m)\u001b[0m\u001b[0;34m\u001b[0m\u001b[0;34m\u001b[0m\u001b[0m\n\u001b[1;32m   3362\u001b[0m             \u001b[0;32mexcept\u001b[0m \u001b[0mKeyError\u001b[0m \u001b[0;32mas\u001b[0m \u001b[0merr\u001b[0m\u001b[0;34m:\u001b[0m\u001b[0;34m\u001b[0m\u001b[0;34m\u001b[0m\u001b[0m\n\u001b[0;32m-> 3363\u001b[0;31m                 \u001b[0;32mraise\u001b[0m \u001b[0mKeyError\u001b[0m\u001b[0;34m(\u001b[0m\u001b[0mkey\u001b[0m\u001b[0;34m)\u001b[0m \u001b[0;32mfrom\u001b[0m \u001b[0merr\u001b[0m\u001b[0;34m\u001b[0m\u001b[0;34m\u001b[0m\u001b[0m\n\u001b[0m\u001b[1;32m   3364\u001b[0m \u001b[0;34m\u001b[0m\u001b[0m\n\u001b[1;32m   3365\u001b[0m         \u001b[0;32mif\u001b[0m \u001b[0mis_scalar\u001b[0m\u001b[0;34m(\u001b[0m\u001b[0mkey\u001b[0m\u001b[0;34m)\u001b[0m \u001b[0;32mand\u001b[0m \u001b[0misna\u001b[0m\u001b[0;34m(\u001b[0m\u001b[0mkey\u001b[0m\u001b[0;34m)\u001b[0m \u001b[0;32mand\u001b[0m \u001b[0;32mnot\u001b[0m \u001b[0mself\u001b[0m\u001b[0;34m.\u001b[0m\u001b[0mhasnans\u001b[0m\u001b[0;34m:\u001b[0m\u001b[0;34m\u001b[0m\u001b[0;34m\u001b[0m\u001b[0m\n",
            "\u001b[0;31mKeyError\u001b[0m: 'marusia'"
          ]
        }
      ]
    },
    {
      "cell_type": "markdown",
      "source": [],
      "metadata": {
        "id": "gJ_QuBzrQGy1"
      }
    }
  ]
}